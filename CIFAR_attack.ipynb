{
 "cells": [
  {
   "cell_type": "code",
   "execution_count": 13,
   "metadata": {},
   "outputs": [],
   "source": [
    "import tensorflow.compat.v1 as tf\n",
    "# tf.disable_v2_behavior()\n",
    "import numpy as np\n",
    "from setup_cifar import CIFAR, CIFARModel\n",
    "from l2_attack import CarliniL2\n",
    "import matplotlib.pyplot as plt"
   ]
  },
  {
   "cell_type": "code",
   "execution_count": 14,
   "metadata": {
    "pycharm": {
     "name": "#%%\n"
    }
   },
   "outputs": [],
   "source": [
    "def generate_data(data, samples, targeted=True, start=0, inception=False):\n",
    "    \"\"\"\n",
    "    Generate the input data to the attack algorithm.\n",
    "\n",
    "    data: the images to attack\n",
    "    samples: number of samples to use\n",
    "    targeted: if true, construct targeted attacks, otherwise untargeted attacks\n",
    "    start: offset into data to use\n",
    "    inception: if targeted and inception, randomly sample 100 targets intead of 1000\n",
    "    \"\"\"\n",
    "    inputs = []\n",
    "    targets = []\n",
    "    for i in range(samples):\n",
    "        if targeted:\n",
    "            if inception:\n",
    "                seq = random.sample(range(1,1001), 10)\n",
    "            else:\n",
    "                seq = range(data.test_labels.shape[1])\n",
    "\n",
    "            for j in seq:\n",
    "                if (j == np.argmax(data.test_labels[start+i])) and (inception == False):\n",
    "                    continue\n",
    "                inputs.append(data.test_data[start+i])\n",
    "                targets.append(np.eye(data.test_labels.shape[1])[j])\n",
    "        else:\n",
    "            inputs.append(data.test_data[start+i])\n",
    "            targets.append(data.test_labels[start+i])\n",
    "\n",
    "    inputs = np.array(inputs)\n",
    "    targets = np.array(targets)\n",
    "\n",
    "    return inputs, targets"
   ]
  },
  {
   "cell_type": "code",
   "execution_count": 16,
   "metadata": {
    "pycharm": {
     "name": "#%%\n"
    }
   },
   "outputs": [
    {
     "name": "stdout",
     "output_type": "stream",
     "text": [
      "WARNING:tensorflow:Inconsistent references when loading the checkpoint into this object graph. Either the Trackable object references in the Python program have changed in an incompatible way, or the checkpoint was generated in an incompatible program.\n",
      "\n",
      "Two checkpoint references resolved to different objects (<keras.layers.core.dense.Dense object at 0x7efd587a84f0> and <keras.layers.core.activation.Activation object at 0x7efd587a81c0>).\n"
     ]
    },
    {
     "name": "stderr",
     "output_type": "stream",
     "text": [
      "2022-01-13 11:55:52.883162: W tensorflow/core/util/tensor_slice_reader.cc:96] Could not open models/cifar: FAILED_PRECONDITION: models/cifar; Is a directory: perhaps your file is in a different file format and you need to use a different restore operator?\n"
     ]
    },
    {
     "name": "stdout",
     "output_type": "stream",
     "text": [
      "go up to 90\n",
      "tick 0\n",
      "[10000000000.0, 10000000000.0, 10000000000.0]\n",
      "0 (0.19435617, 0.028138857, 0.16621731)\n",
      "100 (0.04386197, 0.042411122, 0.0014508495)\n",
      "200 (0.04406588, 0.042442337, 0.0016235433)\n",
      "300 (0.04417552, 0.04244975, 0.0017257724)\n",
      "[10000000000.0, 10000000000.0, 10000000000.0]\n",
      "0 (0.45185426, 0.28126043, 0.17059383)\n",
      "100 (0.24396868, 0.02758582, 0.21638286)\n",
      "200 (0.24089664, 0.02106334, 0.2198333)\n",
      "[0.082632914, 10000000000.0, 0.044837505]\n",
      "0 (1.5146198, 1.3441409, 0.17047894)\n",
      "100 (0.25165215, 0.0671496, 0.18450256)\n",
      "200 (0.29125398, 0.06815591, 0.22309808)\n",
      "[0.082632914, 0.13947082, 0.044837505]\n",
      "0 (0.98338115, 0.81269944, 0.17068172)\n",
      "100 (0.28029683, 0.0720893, 0.20820753)\n",
      "200 (0.2627344, 0.05901687, 0.20371753)\n",
      "[0.082632914, 0.11641682, 0.044837505]\n",
      "0 (0.71769845, 0.5469798, 0.17071867)\n",
      "100 (0.26353553, 0.038627855, 0.22490767)\n",
      "200 (0.2459506, 0.018063534, 0.22788706)\n",
      "300 (0.28017455, 0.06564317, 0.21453138)\n",
      "[0.082632914, 0.11411433, 0.04436662]\n",
      "0 (0.5672734, 0.3966377, 0.17063564)\n",
      "100 (0.25275263, 0.018529199, 0.23422343)\n",
      "200 (0.24770895, 0.027661193, 0.22004776)\n",
      "[0.082632914, 0.11138269, 0.04436662]\n",
      "0 (0.5008155, 0.33020782, 0.17060767)\n",
      "100 (0.24500763, 0.0343818, 0.21062583)\n",
      "200 (0.23931035, 0.022146918, 0.21716344)\n",
      "[0.082632914, 0.11138269, 0.04436662]\n",
      "0 (0.46573997, 0.2951698, 0.17057016)\n",
      "100 (0.24700913, 0.034569662, 0.21243946)\n",
      "200 (0.2455373, 0.030844701, 0.2146926)\n",
      "300 (0.24441543, 0.026501413, 0.21791402)\n",
      "[0.082632914, 0.10756481, 0.04436662]\n",
      "0 (0.44911247, 0.27856237, 0.17055011)\n",
      "100 (0.24076295, 0.021036368, 0.21972658)\n",
      "200 (0.24373043, 0.015600907, 0.22812952)\n",
      "300 (0.24275352, 0.02558431, 0.21716921)\n",
      "400 (0.23850724, 0.020391293, 0.21811596)\n",
      "tick 3\n",
      "[10000000000.0, 10000000000.0, 10000000000.0]\n",
      "0 (0.18357477, 0.017948264, 0.1656265)\n",
      "100 (0.02830364, 0.026612107, 0.0016915326)\n",
      "200 (0.028409805, 0.026632322, 0.0017774826)\n",
      "[10000000000.0, 5.806359e-05, 10000000000.0]\n",
      "0 (0.34705418, 0.17934038, 0.16771379)\n",
      "100 (0.13400412, 0.02502675, 0.10897736)\n",
      "200 (0.13876447, 0.03474401, 0.104020454)\n",
      "[0.06595031, 4.8850314e-05, 10000000000.0]\n",
      "0 (0.873193, 0.7071451, 0.16604796)\n",
      "100 (0.15374433, 0.00961852, 0.1441258)\n",
      "200 (0.20968598, 0.07830049, 0.13138549)\n",
      "300 (0.15525295, 0.010669025, 0.14458393)\n",
      "400 (0.18653071, 0.014556029, 0.17197467)\n",
      "[0.06595031, 3.259262e-05, 0.07634966]\n",
      "0 (0.606768, 0.4432528, 0.16351524)\n",
      "100 (0.15167154, 0.009419934, 0.14225161)\n",
      "200 (0.1782097, 0.03547633, 0.14273338)\n",
      "[0.06595031, 3.259262e-05, 0.069756016]\n",
      "0 (0.4452564, 0.2854412, 0.1598152)\n",
      "100 (0.1441185, 0.013624587, 0.13049391)\n",
      "200 (0.13734671, 0.0062749847, 0.13107173)\n",
      "300 (0.15593418, 0.003749307, 0.15218487)\n",
      "[0.06595031, 3.259262e-05, 0.06774238]\n",
      "0 (0.36151034, 0.20653307, 0.15497726)\n",
      "100 (0.13846812, 0.014111952, 0.124356166)\n",
      "200 (0.13515246, 0.010873742, 0.12427872)\n",
      "[0.06595031, 3.259262e-05, 0.06551604]\n",
      "0 (0.31606376, 0.16707847, 0.14898528)\n",
      "100 (0.13556668, 0.020785235, 0.114781454)\n",
      "200 (0.13751309, 0.018751323, 0.11876176)\n",
      "300 (0.13610522, 0.021709442, 0.11439578)\n",
      "400 (0.13632767, 0.021181535, 0.11514613)\n",
      "[0.06595031, 3.259262e-05, 0.06549492]\n",
      "0 (0.2926541, 0.15058316, 0.14207095)\n",
      "100 (0.13160455, 0.0166304, 0.114974156)\n",
      "200 (0.13198069, 0.018626962, 0.11335373)\n",
      "[0.06595031, 3.259262e-05, 0.06549492]\n",
      "0 (0.29521918, 0.16044706, 0.13477212)\n",
      "100 (0.13672222, 0.015245219, 0.12147701)\n",
      "200 (0.13319921, 0.017203957, 0.11599526)\n",
      "300 (0.1346313, 0.014605021, 0.12002629)\n",
      "tick 6\n",
      "[10000000000.0, 10000000000.0, 10000000000.0]\n",
      "0 (0.20153189, 0.034607984, 0.1669239)\n",
      "100 (0.055253863, 0.052691296, 0.0025625667)\n",
      "200 (0.055449825, 0.05278238, 0.0026674462)\n",
      "300 (0.05558884, 0.052853726, 0.0027351137)\n",
      "[10000000000.0, 10000000000.0, 10000000000.0]\n",
      "0 (0.5166976, 0.34589404, 0.17080356)\n",
      "100 (0.2744498, 0.07073643, 0.20371337)\n",
      "200 (0.28127903, 0.06944674, 0.21183227)\n",
      "300 (0.27744937, 0.073017076, 0.20443228)\n",
      "[10000000000.0, 0.08683095, 0.07607861]\n",
      "0 (1.5024654, 1.3317463, 0.17071906)\n",
      "100 (0.3409982, 0.0771203, 0.2638779)\n",
      "200 (0.3166718, 0.078854926, 0.23781687)\n",
      "300 (0.3405457, 0.07861256, 0.26193315)\n",
      "[0.13535294, 0.08683095, 0.07607861]\n",
      "0 (1.0097059, 0.8388199, 0.17088598)\n",
      "100 (0.31925556, 0.0031600764, 0.31609547)\n",
      "200 (0.30096388, 0.036485918, 0.26447797)\n",
      "[0.12641099, 0.08683095, 0.073274404]\n",
      "0 (0.71248907, 0.541714, 0.17077506)\n",
      "100 (0.3087993, 0.056720097, 0.2520792)\n",
      "200 (0.3221152, 0.045952264, 0.27616295)\n",
      "[0.12641099, 0.08683095, 0.073274404]\n",
      "0 (0.5774974, 0.40676343, 0.170734)\n",
      "100 (0.32479584, 0.068637595, 0.25615823)\n",
      "200 (0.32290572, 0.07230652, 0.2505992)\n",
      "300 (0.3189469, 0.06740974, 0.25153717)\n",
      "400 (0.3221153, 0.06344649, 0.2586688)\n",
      "[0.12641099, 0.08683095, 0.073274404]\n",
      "0 (0.65182006, 0.48103994, 0.17078009)\n",
      "100 (0.31592533, 0.03498337, 0.28094196)\n",
      "200 (0.30063576, 0.032923575, 0.26771218)\n",
      "[0.12641099, 0.08683095, 0.073274404]\n",
      "0 (0.617602, 0.4468315, 0.17077047)\n",
      "100 (0.3281818, 0.07018655, 0.25799525)\n",
      "200 (0.3294089, 0.074000366, 0.25540856)\n",
      "300 (0.3278788, 0.06648657, 0.26139224)\n",
      "[0.12641099, 0.08683095, 0.073274404]\n",
      "0 (0.6347112, 0.4639356, 0.1707756)\n",
      "100 (0.29913646, 0.017130926, 0.28200555)\n",
      "200 (0.30912918, 0.040215775, 0.2689134)\n",
      "300 (0.2891926, 0.014701329, 0.27449125)\n",
      "tick 9\n",
      "[10000000000.0, 10000000000.0, 10000000000.0]\n",
      "0 (0.17102012, 0.07439473, 0.09662538)\n",
      "100 (0.092823066, 0.08749218, 0.0053308825)\n"
     ]
    },
    {
     "ename": "KeyboardInterrupt",
     "evalue": "",
     "output_type": "error",
     "traceback": [
      "\u001B[0;31m---------------------------------------------------------------------------\u001B[0m",
      "\u001B[0;31mKeyboardInterrupt\u001B[0m                         Traceback (most recent call last)",
      "Input \u001B[0;32mIn [16]\u001B[0m, in \u001B[0;36m<module>\u001B[0;34m\u001B[0m\n\u001B[1;32m      6\u001B[0m attack \u001B[38;5;241m=\u001B[39m CarliniL2(sess, model, batch_size\u001B[38;5;241m=\u001B[39m\u001B[38;5;241m3\u001B[39m, max_iterations\u001B[38;5;241m=\u001B[39m\u001B[38;5;241m1000\u001B[39m, confidence\u001B[38;5;241m=\u001B[39m\u001B[38;5;241m0\u001B[39m)\n\u001B[1;32m      8\u001B[0m inputs, targets \u001B[38;5;241m=\u001B[39m generate_data(data, samples\u001B[38;5;241m=\u001B[39m\u001B[38;5;241m10\u001B[39m, targeted\u001B[38;5;241m=\u001B[39m\u001B[38;5;28;01mTrue\u001B[39;00m, start\u001B[38;5;241m=\u001B[39m\u001B[38;5;241m0\u001B[39m, inception\u001B[38;5;241m=\u001B[39m\u001B[38;5;28;01mFalse\u001B[39;00m)\n\u001B[0;32m---> 10\u001B[0m adv \u001B[38;5;241m=\u001B[39m \u001B[43mattack\u001B[49m\u001B[38;5;241;43m.\u001B[39;49m\u001B[43mattack\u001B[49m\u001B[43m(\u001B[49m\u001B[43minputs\u001B[49m\u001B[43m,\u001B[49m\u001B[43m \u001B[49m\u001B[43mtargets\u001B[49m\u001B[43m)\u001B[49m\n",
      "File \u001B[0;32m~/PycharmProjects/nn_robust_attacks/l2_attack.py:138\u001B[0m, in \u001B[0;36mCarliniL2.attack\u001B[0;34m(self, imgs, targets)\u001B[0m\n\u001B[1;32m    136\u001B[0m \u001B[38;5;28;01mfor\u001B[39;00m i \u001B[38;5;129;01min\u001B[39;00m \u001B[38;5;28mrange\u001B[39m(\u001B[38;5;241m0\u001B[39m,\u001B[38;5;28mlen\u001B[39m(imgs),\u001B[38;5;28mself\u001B[39m\u001B[38;5;241m.\u001B[39mbatch_size):\n\u001B[1;32m    137\u001B[0m     \u001B[38;5;28mprint\u001B[39m(\u001B[38;5;124m'\u001B[39m\u001B[38;5;124mtick\u001B[39m\u001B[38;5;124m'\u001B[39m,i)\n\u001B[0;32m--> 138\u001B[0m     r\u001B[38;5;241m.\u001B[39mextend(\u001B[38;5;28;43mself\u001B[39;49m\u001B[38;5;241;43m.\u001B[39;49m\u001B[43mattack_batch\u001B[49m\u001B[43m(\u001B[49m\u001B[43mimgs\u001B[49m\u001B[43m[\u001B[49m\u001B[43mi\u001B[49m\u001B[43m:\u001B[49m\u001B[43mi\u001B[49m\u001B[38;5;241;43m+\u001B[39;49m\u001B[38;5;28;43mself\u001B[39;49m\u001B[38;5;241;43m.\u001B[39;49m\u001B[43mbatch_size\u001B[49m\u001B[43m]\u001B[49m\u001B[43m,\u001B[49m\u001B[43m \u001B[49m\u001B[43mtargets\u001B[49m\u001B[43m[\u001B[49m\u001B[43mi\u001B[49m\u001B[43m:\u001B[49m\u001B[43mi\u001B[49m\u001B[38;5;241;43m+\u001B[39;49m\u001B[38;5;28;43mself\u001B[39;49m\u001B[38;5;241;43m.\u001B[39;49m\u001B[43mbatch_size\u001B[49m\u001B[43m]\u001B[49m\u001B[43m)\u001B[49m)\n\u001B[1;32m    139\u001B[0m \u001B[38;5;28;01mreturn\u001B[39;00m np\u001B[38;5;241m.\u001B[39marray(r)\n",
      "File \u001B[0;32m~/PycharmProjects/nn_robust_attacks/l2_attack.py:195\u001B[0m, in \u001B[0;36mCarliniL2.attack_batch\u001B[0;34m(self, imgs, labs)\u001B[0m\n\u001B[1;32m    192\u001B[0m prev \u001B[38;5;241m=\u001B[39m np\u001B[38;5;241m.\u001B[39minf\n\u001B[1;32m    193\u001B[0m \u001B[38;5;28;01mfor\u001B[39;00m iteration \u001B[38;5;129;01min\u001B[39;00m \u001B[38;5;28mrange\u001B[39m(\u001B[38;5;28mself\u001B[39m\u001B[38;5;241m.\u001B[39mMAX_ITERATIONS):\n\u001B[1;32m    194\u001B[0m     \u001B[38;5;66;03m# perform the attack \u001B[39;00m\n\u001B[0;32m--> 195\u001B[0m     _, l, l2s, scores, nimg \u001B[38;5;241m=\u001B[39m \u001B[38;5;28;43mself\u001B[39;49m\u001B[38;5;241;43m.\u001B[39;49m\u001B[43msess\u001B[49m\u001B[38;5;241;43m.\u001B[39;49m\u001B[43mrun\u001B[49m\u001B[43m(\u001B[49m\u001B[43m[\u001B[49m\u001B[38;5;28;43mself\u001B[39;49m\u001B[38;5;241;43m.\u001B[39;49m\u001B[43mtrain\u001B[49m\u001B[43m,\u001B[49m\u001B[43m \u001B[49m\u001B[38;5;28;43mself\u001B[39;49m\u001B[38;5;241;43m.\u001B[39;49m\u001B[43mloss\u001B[49m\u001B[43m,\u001B[49m\u001B[43m \u001B[49m\n\u001B[1;32m    196\u001B[0m \u001B[43m                                             \u001B[49m\u001B[38;5;28;43mself\u001B[39;49m\u001B[38;5;241;43m.\u001B[39;49m\u001B[43ml2dist\u001B[49m\u001B[43m,\u001B[49m\u001B[43m \u001B[49m\u001B[38;5;28;43mself\u001B[39;49m\u001B[38;5;241;43m.\u001B[39;49m\u001B[43moutput\u001B[49m\u001B[43m,\u001B[49m\u001B[43m \u001B[49m\n\u001B[1;32m    197\u001B[0m \u001B[43m                                             \u001B[49m\u001B[38;5;28;43mself\u001B[39;49m\u001B[38;5;241;43m.\u001B[39;49m\u001B[43mnewimg\u001B[49m\u001B[43m]\u001B[49m\u001B[43m)\u001B[49m\n\u001B[1;32m    199\u001B[0m     \u001B[38;5;28;01mif\u001B[39;00m np\u001B[38;5;241m.\u001B[39mall(scores\u001B[38;5;241m>\u001B[39m\u001B[38;5;241m=\u001B[39m\u001B[38;5;241m-\u001B[39m\u001B[38;5;241m.0001\u001B[39m) \u001B[38;5;129;01mand\u001B[39;00m np\u001B[38;5;241m.\u001B[39mall(scores \u001B[38;5;241m<\u001B[39m\u001B[38;5;241m=\u001B[39m \u001B[38;5;241m1.0001\u001B[39m):\n\u001B[1;32m    200\u001B[0m         \u001B[38;5;28;01mif\u001B[39;00m np\u001B[38;5;241m.\u001B[39mallclose(np\u001B[38;5;241m.\u001B[39msum(scores,axis\u001B[38;5;241m=\u001B[39m\u001B[38;5;241m1\u001B[39m), \u001B[38;5;241m1.0\u001B[39m, atol\u001B[38;5;241m=\u001B[39m\u001B[38;5;241m1e-3\u001B[39m):\n",
      "File \u001B[0;32m~/PycharmProjects/nn_robust_attacks/venv/lib/python3.9/site-packages/tensorflow/python/client/session.py:970\u001B[0m, in \u001B[0;36mBaseSession.run\u001B[0;34m(self, fetches, feed_dict, options, run_metadata)\u001B[0m\n\u001B[1;32m    967\u001B[0m run_metadata_ptr \u001B[38;5;241m=\u001B[39m tf_session\u001B[38;5;241m.\u001B[39mTF_NewBuffer() \u001B[38;5;28;01mif\u001B[39;00m run_metadata \u001B[38;5;28;01melse\u001B[39;00m \u001B[38;5;28;01mNone\u001B[39;00m\n\u001B[1;32m    969\u001B[0m \u001B[38;5;28;01mtry\u001B[39;00m:\n\u001B[0;32m--> 970\u001B[0m   result \u001B[38;5;241m=\u001B[39m \u001B[38;5;28;43mself\u001B[39;49m\u001B[38;5;241;43m.\u001B[39;49m\u001B[43m_run\u001B[49m\u001B[43m(\u001B[49m\u001B[38;5;28;43;01mNone\u001B[39;49;00m\u001B[43m,\u001B[49m\u001B[43m \u001B[49m\u001B[43mfetches\u001B[49m\u001B[43m,\u001B[49m\u001B[43m \u001B[49m\u001B[43mfeed_dict\u001B[49m\u001B[43m,\u001B[49m\u001B[43m \u001B[49m\u001B[43moptions_ptr\u001B[49m\u001B[43m,\u001B[49m\n\u001B[1;32m    971\u001B[0m \u001B[43m                     \u001B[49m\u001B[43mrun_metadata_ptr\u001B[49m\u001B[43m)\u001B[49m\n\u001B[1;32m    972\u001B[0m   \u001B[38;5;28;01mif\u001B[39;00m run_metadata:\n\u001B[1;32m    973\u001B[0m     proto_data \u001B[38;5;241m=\u001B[39m tf_session\u001B[38;5;241m.\u001B[39mTF_GetBuffer(run_metadata_ptr)\n",
      "File \u001B[0;32m~/PycharmProjects/nn_robust_attacks/venv/lib/python3.9/site-packages/tensorflow/python/client/session.py:1193\u001B[0m, in \u001B[0;36mBaseSession._run\u001B[0;34m(self, handle, fetches, feed_dict, options, run_metadata)\u001B[0m\n\u001B[1;32m   1190\u001B[0m \u001B[38;5;66;03m# We only want to really perform the run if fetches or targets are provided,\u001B[39;00m\n\u001B[1;32m   1191\u001B[0m \u001B[38;5;66;03m# or if the call is a partial run that specifies feeds.\u001B[39;00m\n\u001B[1;32m   1192\u001B[0m \u001B[38;5;28;01mif\u001B[39;00m final_fetches \u001B[38;5;129;01mor\u001B[39;00m final_targets \u001B[38;5;129;01mor\u001B[39;00m (handle \u001B[38;5;129;01mand\u001B[39;00m feed_dict_tensor):\n\u001B[0;32m-> 1193\u001B[0m   results \u001B[38;5;241m=\u001B[39m \u001B[38;5;28;43mself\u001B[39;49m\u001B[38;5;241;43m.\u001B[39;49m\u001B[43m_do_run\u001B[49m\u001B[43m(\u001B[49m\u001B[43mhandle\u001B[49m\u001B[43m,\u001B[49m\u001B[43m \u001B[49m\u001B[43mfinal_targets\u001B[49m\u001B[43m,\u001B[49m\u001B[43m \u001B[49m\u001B[43mfinal_fetches\u001B[49m\u001B[43m,\u001B[49m\n\u001B[1;32m   1194\u001B[0m \u001B[43m                         \u001B[49m\u001B[43mfeed_dict_tensor\u001B[49m\u001B[43m,\u001B[49m\u001B[43m \u001B[49m\u001B[43moptions\u001B[49m\u001B[43m,\u001B[49m\u001B[43m \u001B[49m\u001B[43mrun_metadata\u001B[49m\u001B[43m)\u001B[49m\n\u001B[1;32m   1195\u001B[0m \u001B[38;5;28;01melse\u001B[39;00m:\n\u001B[1;32m   1196\u001B[0m   results \u001B[38;5;241m=\u001B[39m []\n",
      "File \u001B[0;32m~/PycharmProjects/nn_robust_attacks/venv/lib/python3.9/site-packages/tensorflow/python/client/session.py:1373\u001B[0m, in \u001B[0;36mBaseSession._do_run\u001B[0;34m(self, handle, target_list, fetch_list, feed_dict, options, run_metadata)\u001B[0m\n\u001B[1;32m   1370\u001B[0m   \u001B[38;5;28;01mreturn\u001B[39;00m \u001B[38;5;28mself\u001B[39m\u001B[38;5;241m.\u001B[39m_call_tf_sessionprun(handle, feed_dict, fetch_list)\n\u001B[1;32m   1372\u001B[0m \u001B[38;5;28;01mif\u001B[39;00m handle \u001B[38;5;129;01mis\u001B[39;00m \u001B[38;5;28;01mNone\u001B[39;00m:\n\u001B[0;32m-> 1373\u001B[0m   \u001B[38;5;28;01mreturn\u001B[39;00m \u001B[38;5;28;43mself\u001B[39;49m\u001B[38;5;241;43m.\u001B[39;49m\u001B[43m_do_call\u001B[49m\u001B[43m(\u001B[49m\u001B[43m_run_fn\u001B[49m\u001B[43m,\u001B[49m\u001B[43m \u001B[49m\u001B[43mfeeds\u001B[49m\u001B[43m,\u001B[49m\u001B[43m \u001B[49m\u001B[43mfetches\u001B[49m\u001B[43m,\u001B[49m\u001B[43m \u001B[49m\u001B[43mtargets\u001B[49m\u001B[43m,\u001B[49m\u001B[43m \u001B[49m\u001B[43moptions\u001B[49m\u001B[43m,\u001B[49m\n\u001B[1;32m   1374\u001B[0m \u001B[43m                       \u001B[49m\u001B[43mrun_metadata\u001B[49m\u001B[43m)\u001B[49m\n\u001B[1;32m   1375\u001B[0m \u001B[38;5;28;01melse\u001B[39;00m:\n\u001B[1;32m   1376\u001B[0m   \u001B[38;5;28;01mreturn\u001B[39;00m \u001B[38;5;28mself\u001B[39m\u001B[38;5;241m.\u001B[39m_do_call(_prun_fn, handle, feeds, fetches)\n",
      "File \u001B[0;32m~/PycharmProjects/nn_robust_attacks/venv/lib/python3.9/site-packages/tensorflow/python/client/session.py:1380\u001B[0m, in \u001B[0;36mBaseSession._do_call\u001B[0;34m(self, fn, *args)\u001B[0m\n\u001B[1;32m   1378\u001B[0m \u001B[38;5;28;01mdef\u001B[39;00m \u001B[38;5;21m_do_call\u001B[39m(\u001B[38;5;28mself\u001B[39m, fn, \u001B[38;5;241m*\u001B[39margs):\n\u001B[1;32m   1379\u001B[0m   \u001B[38;5;28;01mtry\u001B[39;00m:\n\u001B[0;32m-> 1380\u001B[0m     \u001B[38;5;28;01mreturn\u001B[39;00m \u001B[43mfn\u001B[49m\u001B[43m(\u001B[49m\u001B[38;5;241;43m*\u001B[39;49m\u001B[43margs\u001B[49m\u001B[43m)\u001B[49m\n\u001B[1;32m   1381\u001B[0m   \u001B[38;5;28;01mexcept\u001B[39;00m errors\u001B[38;5;241m.\u001B[39mOpError \u001B[38;5;28;01mas\u001B[39;00m e:\n\u001B[1;32m   1382\u001B[0m     message \u001B[38;5;241m=\u001B[39m compat\u001B[38;5;241m.\u001B[39mas_text(e\u001B[38;5;241m.\u001B[39mmessage)\n",
      "File \u001B[0;32m~/PycharmProjects/nn_robust_attacks/venv/lib/python3.9/site-packages/tensorflow/python/client/session.py:1363\u001B[0m, in \u001B[0;36mBaseSession._do_run.<locals>._run_fn\u001B[0;34m(feed_dict, fetch_list, target_list, options, run_metadata)\u001B[0m\n\u001B[1;32m   1360\u001B[0m \u001B[38;5;28;01mdef\u001B[39;00m \u001B[38;5;21m_run_fn\u001B[39m(feed_dict, fetch_list, target_list, options, run_metadata):\n\u001B[1;32m   1361\u001B[0m   \u001B[38;5;66;03m# Ensure any changes to the graph are reflected in the runtime.\u001B[39;00m\n\u001B[1;32m   1362\u001B[0m   \u001B[38;5;28mself\u001B[39m\u001B[38;5;241m.\u001B[39m_extend_graph()\n\u001B[0;32m-> 1363\u001B[0m   \u001B[38;5;28;01mreturn\u001B[39;00m \u001B[38;5;28;43mself\u001B[39;49m\u001B[38;5;241;43m.\u001B[39;49m\u001B[43m_call_tf_sessionrun\u001B[49m\u001B[43m(\u001B[49m\u001B[43moptions\u001B[49m\u001B[43m,\u001B[49m\u001B[43m \u001B[49m\u001B[43mfeed_dict\u001B[49m\u001B[43m,\u001B[49m\u001B[43m \u001B[49m\u001B[43mfetch_list\u001B[49m\u001B[43m,\u001B[49m\n\u001B[1;32m   1364\u001B[0m \u001B[43m                                  \u001B[49m\u001B[43mtarget_list\u001B[49m\u001B[43m,\u001B[49m\u001B[43m \u001B[49m\u001B[43mrun_metadata\u001B[49m\u001B[43m)\u001B[49m\n",
      "File \u001B[0;32m~/PycharmProjects/nn_robust_attacks/venv/lib/python3.9/site-packages/tensorflow/python/client/session.py:1456\u001B[0m, in \u001B[0;36mBaseSession._call_tf_sessionrun\u001B[0;34m(self, options, feed_dict, fetch_list, target_list, run_metadata)\u001B[0m\n\u001B[1;32m   1454\u001B[0m \u001B[38;5;28;01mdef\u001B[39;00m \u001B[38;5;21m_call_tf_sessionrun\u001B[39m(\u001B[38;5;28mself\u001B[39m, options, feed_dict, fetch_list, target_list,\n\u001B[1;32m   1455\u001B[0m                         run_metadata):\n\u001B[0;32m-> 1456\u001B[0m   \u001B[38;5;28;01mreturn\u001B[39;00m \u001B[43mtf_session\u001B[49m\u001B[38;5;241;43m.\u001B[39;49m\u001B[43mTF_SessionRun_wrapper\u001B[49m\u001B[43m(\u001B[49m\u001B[38;5;28;43mself\u001B[39;49m\u001B[38;5;241;43m.\u001B[39;49m\u001B[43m_session\u001B[49m\u001B[43m,\u001B[49m\u001B[43m \u001B[49m\u001B[43moptions\u001B[49m\u001B[43m,\u001B[49m\u001B[43m \u001B[49m\u001B[43mfeed_dict\u001B[49m\u001B[43m,\u001B[49m\n\u001B[1;32m   1457\u001B[0m \u001B[43m                                          \u001B[49m\u001B[43mfetch_list\u001B[49m\u001B[43m,\u001B[49m\u001B[43m \u001B[49m\u001B[43mtarget_list\u001B[49m\u001B[43m,\u001B[49m\n\u001B[1;32m   1458\u001B[0m \u001B[43m                                          \u001B[49m\u001B[43mrun_metadata\u001B[49m\u001B[43m)\u001B[49m\n",
      "\u001B[0;31mKeyboardInterrupt\u001B[0m: "
     ]
    }
   ],
   "source": [
    "data = None\n",
    "model = None\n",
    "sess = tf.Session()\n",
    "with tf.Session() as sess:\n",
    "    data, model =  CIFAR(), CIFARModel(\"models/cifar\", sess)\n",
    "    attack = CarliniL2(sess, model, batch_size=9, max_iterations=1000, confidence=0)\n",
    "\n",
    "    inputs, targets = generate_data(data, samples=10, targeted=True, start=0, inception=False)\n",
    "\n",
    "    adv = attack.attack(inputs, targets)"
   ]
  },
  {
   "cell_type": "code",
   "execution_count": null,
   "metadata": {
    "pycharm": {
     "name": "#%%\n"
    }
   },
   "outputs": [],
   "source": [
    "inputs.shape"
   ]
  },
  {
   "cell_type": "code",
   "execution_count": null,
   "metadata": {
    "pycharm": {
     "name": "#%%\n"
    }
   },
   "outputs": [],
   "source": [
    "def plot_CIFAR(source, ind):\n",
    "    arr = source[ind][:,:]\n",
    "    print(arr.shape)\n",
    "\n",
    "    plt.imshow(arr)\n",
    "    plt.show()\n",
    "\n",
    "plot_CIFAR(inputs, 4)\n",
    "plot_CIFAR(inputs, 55)\n",
    "plot_CIFAR(inputs, 63)\n",
    "\n",
    "plot_CIFAR(adv, 4)\n",
    "plot_CIFAR(adv, 55)\n",
    "plot_CIFAR(adv, 63)"
   ]
  },
  {
   "cell_type": "code",
   "execution_count": null,
   "metadata": {
    "pycharm": {
     "name": "#%%\n"
    }
   },
   "outputs": [],
   "source": []
  },
  {
   "cell_type": "code",
   "execution_count": null,
   "metadata": {
    "pycharm": {
     "name": "#%%\n"
    }
   },
   "outputs": [],
   "source": []
  }
 ],
 "metadata": {
  "kernelspec": {
   "display_name": "Python 3 (ipykernel)",
   "language": "python",
   "name": "python3"
  },
  "language_info": {
   "codemirror_mode": {
    "name": "ipython",
    "version": 3
   },
   "file_extension": ".py",
   "mimetype": "text/x-python",
   "name": "python",
   "nbconvert_exporter": "python",
   "pygments_lexer": "ipython3",
   "version": "3.9.7"
  }
 },
 "nbformat": 4,
 "nbformat_minor": 1
}